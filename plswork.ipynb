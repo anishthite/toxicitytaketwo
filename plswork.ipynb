{
 "cells": [
  {
   "cell_type": "code",
   "execution_count": 47,
   "metadata": {},
   "outputs": [],
   "source": [
    "import pandas as pd\n",
    "import numpy as np\n",
    "from collections import Counter\n"
   ]
  },
  {
   "cell_type": "code",
   "execution_count": 48,
   "metadata": {},
   "outputs": [],
   "source": [
    "df = pd.read_csv(\"wikidetox/toxicity_annotated_comments.tsv\",  sep='\\t')\n",
    "df_labels = pd.read_csv(\"wikidetox/toxicity_annotations.tsv\",  sep='\\t')"
   ]
  },
  {
   "cell_type": "code",
   "execution_count": 49,
   "metadata": {},
   "outputs": [],
   "source": [
    "df_labels.drop(['worker_id'],axis=1, inplace=True)\n",
    "df.drop(['year','logged_in','ns','sample'],axis=1, inplace=True)\n"
   ]
  },
  {
   "cell_type": "code",
   "execution_count": 50,
   "metadata": {},
   "outputs": [],
   "source": [
    "df['comment'] = df['comment'].str.replace('NEWLINE_TOKEN','\\n')"
   ]
  },
  {
   "cell_type": "code",
   "execution_count": 51,
   "metadata": {},
   "outputs": [
    {
     "data": {
      "text/html": [
       "<div>\n",
       "<style scoped>\n",
       "    .dataframe tbody tr th:only-of-type {\n",
       "        vertical-align: middle;\n",
       "    }\n",
       "\n",
       "    .dataframe tbody tr th {\n",
       "        vertical-align: top;\n",
       "    }\n",
       "\n",
       "    .dataframe thead th {\n",
       "        text-align: right;\n",
       "    }\n",
       "</style>\n",
       "<table border=\"1\" class=\"dataframe\">\n",
       "  <thead>\n",
       "    <tr style=\"text-align: right;\">\n",
       "      <th></th>\n",
       "      <th>rev_id</th>\n",
       "      <th>comment</th>\n",
       "      <th>split</th>\n",
       "    </tr>\n",
       "  </thead>\n",
       "  <tbody>\n",
       "    <tr>\n",
       "      <th>0</th>\n",
       "      <td>2232.0</td>\n",
       "      <td>This:\\n:One can make an analogy in mathematica...</td>\n",
       "      <td>train</td>\n",
       "    </tr>\n",
       "    <tr>\n",
       "      <th>1</th>\n",
       "      <td>4216.0</td>\n",
       "      <td>`\\n\\n:Clarification for you  (and Zundark's ri...</td>\n",
       "      <td>train</td>\n",
       "    </tr>\n",
       "    <tr>\n",
       "      <th>2</th>\n",
       "      <td>8953.0</td>\n",
       "      <td>Elected or Electoral? JHK</td>\n",
       "      <td>test</td>\n",
       "    </tr>\n",
       "    <tr>\n",
       "      <th>3</th>\n",
       "      <td>26547.0</td>\n",
       "      <td>`This is such a fun entry.   Devotchka\\n\\nI on...</td>\n",
       "      <td>train</td>\n",
       "    </tr>\n",
       "    <tr>\n",
       "      <th>4</th>\n",
       "      <td>28959.0</td>\n",
       "      <td>Please relate the ozone hole to increases in c...</td>\n",
       "      <td>test</td>\n",
       "    </tr>\n",
       "    <tr>\n",
       "      <th>...</th>\n",
       "      <td>...</td>\n",
       "      <td>...</td>\n",
       "      <td>...</td>\n",
       "    </tr>\n",
       "    <tr>\n",
       "      <th>159681</th>\n",
       "      <td>699848324.0</td>\n",
       "      <td>`\\n\\n\\nThese sources don't exactly exude a sen...</td>\n",
       "      <td>train</td>\n",
       "    </tr>\n",
       "    <tr>\n",
       "      <th>159682</th>\n",
       "      <td>699851288.0</td>\n",
       "      <td>\\n\\nThe Institute for Historical Review is a p...</td>\n",
       "      <td>test</td>\n",
       "    </tr>\n",
       "    <tr>\n",
       "      <th>159683</th>\n",
       "      <td>699857133.0</td>\n",
       "      <td>\\n:The way you're trying to describe it in thi...</td>\n",
       "      <td>dev</td>\n",
       "    </tr>\n",
       "    <tr>\n",
       "      <th>159684</th>\n",
       "      <td>699891012.0</td>\n",
       "      <td>\\n\\n== Warning ==\\n\\nThere is clearly a protec...</td>\n",
       "      <td>train</td>\n",
       "    </tr>\n",
       "    <tr>\n",
       "      <th>159685</th>\n",
       "      <td>699897151.0</td>\n",
       "      <td>Alternate option===\\nIs there perhaps enough n...</td>\n",
       "      <td>test</td>\n",
       "    </tr>\n",
       "  </tbody>\n",
       "</table>\n",
       "<p>159686 rows × 3 columns</p>\n",
       "</div>"
      ],
      "text/plain": [
       "             rev_id                                            comment  split\n",
       "0            2232.0  This:\\n:One can make an analogy in mathematica...  train\n",
       "1            4216.0  `\\n\\n:Clarification for you  (and Zundark's ri...  train\n",
       "2            8953.0                          Elected or Electoral? JHK   test\n",
       "3           26547.0  `This is such a fun entry.   Devotchka\\n\\nI on...  train\n",
       "4           28959.0  Please relate the ozone hole to increases in c...   test\n",
       "...             ...                                                ...    ...\n",
       "159681  699848324.0  `\\n\\n\\nThese sources don't exactly exude a sen...  train\n",
       "159682  699851288.0  \\n\\nThe Institute for Historical Review is a p...   test\n",
       "159683  699857133.0  \\n:The way you're trying to describe it in thi...    dev\n",
       "159684  699891012.0  \\n\\n== Warning ==\\n\\nThere is clearly a protec...  train\n",
       "159685  699897151.0  Alternate option===\\nIs there perhaps enough n...   test\n",
       "\n",
       "[159686 rows x 3 columns]"
      ]
     },
     "execution_count": 51,
     "metadata": {},
     "output_type": "execute_result"
    }
   ],
   "source": [
    "df"
   ]
  },
  {
   "cell_type": "code",
   "execution_count": 52,
   "metadata": {},
   "outputs": [],
   "source": [
    "dev = df[df['split']=='dev']\n",
    "train = df[df['split']=='train']\n",
    "test = df[df['split']=='test']"
   ]
  },
  {
   "cell_type": "code",
   "execution_count": 53,
   "metadata": {},
   "outputs": [],
   "source": [
    "mydic = Counter()\n",
    "counterdic = Counter()\n",
    "for index, row in df_labels.iterrows():\n",
    "    mydic[row['rev_id']] += row['toxicity']\n",
    "    counterdic[row['rev_id']] += 1"
   ]
  },
  {
   "cell_type": "code",
   "execution_count": 54,
   "metadata": {},
   "outputs": [],
   "source": [
    "true_labels = Counter()\n",
    "for k in mydic.keys():\n",
    "    if mydic[k]/counterdic[k] > 0.500000:\n",
    "        true_labels[k] = 1\n",
    "    else:\n",
    "        true_labels[k] = 0"
   ]
  },
  {
   "cell_type": "code",
   "execution_count": 55,
   "metadata": {},
   "outputs": [
    {
     "data": {
      "text/plain": [
       "0.09620129504151897"
      ]
     },
     "execution_count": 55,
     "metadata": {},
     "output_type": "execute_result"
    }
   ],
   "source": [
    "len([k for k in true_labels.keys() if true_labels[k] !=0])/len(mydic.keys())\n"
   ]
  },
  {
   "cell_type": "code",
   "execution_count": 56,
   "metadata": {},
   "outputs": [
    {
     "name": "stderr",
     "output_type": "stream",
     "text": [
      "/home/anishthite/miniconda3/lib/python3.7/site-packages/ipykernel_launcher.py:5: SettingWithCopyWarning: \n",
      "A value is trying to be set on a copy of a slice from a DataFrame.\n",
      "Try using .loc[row_indexer,col_indexer] = value instead\n",
      "\n",
      "See the caveats in the documentation: http://pandas.pydata.org/pandas-docs/stable/user_guide/indexing.html#returning-a-view-versus-a-copy\n",
      "  \"\"\"\n"
     ]
    }
   ],
   "source": [
    "def add_label(df):\n",
    "    mylist = []\n",
    "    for index,row in df.iterrows():\n",
    "        mylist.append(true_labels[row['rev_id']])\n",
    "    df['labels'] = mylist\n",
    "add_label(dev)\n",
    "add_label(test)\n",
    "add_label(train)"
   ]
  },
  {
   "cell_type": "code",
   "execution_count": 57,
   "metadata": {},
   "outputs": [
    {
     "data": {
      "text/plain": [
       "rev_id     0.095524\n",
       "comment    0.095524\n",
       "split      0.095524\n",
       "labels     0.095524\n",
       "dtype: float64"
      ]
     },
     "execution_count": 57,
     "metadata": {},
     "output_type": "execute_result"
    }
   ],
   "source": [
    "dev[dev['labels']==1].count() / dev.count()"
   ]
  },
  {
   "cell_type": "code",
   "execution_count": 58,
   "metadata": {},
   "outputs": [
    {
     "data": {
      "text/plain": [
       "rev_id     0.096612\n",
       "comment    0.096612\n",
       "split      0.096612\n",
       "labels     0.096612\n",
       "dtype: float64"
      ]
     },
     "execution_count": 58,
     "metadata": {},
     "output_type": "execute_result"
    }
   ],
   "source": [
    "train[train['labels']==1].count() / train.count()"
   ]
  },
  {
   "cell_type": "code",
   "execution_count": 59,
   "metadata": {},
   "outputs": [
    {
     "data": {
      "text/plain": [
       "rev_id     0.095651\n",
       "comment    0.095651\n",
       "split      0.095651\n",
       "labels     0.095651\n",
       "dtype: float64"
      ]
     },
     "execution_count": 59,
     "metadata": {},
     "output_type": "execute_result"
    }
   ],
   "source": [
    "test[test['labels']==1].count() / test.count()"
   ]
  },
  {
   "cell_type": "code",
   "execution_count": 60,
   "metadata": {},
   "outputs": [],
   "source": [
    "dev.drop(['split','rev_id'],axis=1, inplace=True)\n",
    "train.drop(['split','rev_id'],axis=1, inplace=True)\n",
    "test.drop(['split','rev_id'],axis=1, inplace=True)"
   ]
  },
  {
   "cell_type": "code",
   "execution_count": 61,
   "metadata": {},
   "outputs": [],
   "source": [
    "traintest = pd.concat([train,test])\n"
   ]
  },
  {
   "cell_type": "code",
   "execution_count": 62,
   "metadata": {},
   "outputs": [
    {
     "data": {
      "text/html": [
       "<div>\n",
       "<style scoped>\n",
       "    .dataframe tbody tr th:only-of-type {\n",
       "        vertical-align: middle;\n",
       "    }\n",
       "\n",
       "    .dataframe tbody tr th {\n",
       "        vertical-align: top;\n",
       "    }\n",
       "\n",
       "    .dataframe thead th {\n",
       "        text-align: right;\n",
       "    }\n",
       "</style>\n",
       "<table border=\"1\" class=\"dataframe\">\n",
       "  <thead>\n",
       "    <tr style=\"text-align: right;\">\n",
       "      <th></th>\n",
       "      <th>comment</th>\n",
       "      <th>labels</th>\n",
       "    </tr>\n",
       "  </thead>\n",
       "  <tbody>\n",
       "    <tr>\n",
       "      <th>0</th>\n",
       "      <td>This:\\n:One can make an analogy in mathematica...</td>\n",
       "      <td>0</td>\n",
       "    </tr>\n",
       "    <tr>\n",
       "      <th>1</th>\n",
       "      <td>`\\n\\n:Clarification for you  (and Zundark's ri...</td>\n",
       "      <td>0</td>\n",
       "    </tr>\n",
       "    <tr>\n",
       "      <th>3</th>\n",
       "      <td>`This is such a fun entry.   Devotchka\\n\\nI on...</td>\n",
       "      <td>0</td>\n",
       "    </tr>\n",
       "    <tr>\n",
       "      <th>6</th>\n",
       "      <td>`\\n\\n\\nI fixed the link; I also removed ``home...</td>\n",
       "      <td>0</td>\n",
       "    </tr>\n",
       "    <tr>\n",
       "      <th>7</th>\n",
       "      <td>`If they are ``indisputable`` then why does th...</td>\n",
       "      <td>0</td>\n",
       "    </tr>\n",
       "    <tr>\n",
       "      <th>...</th>\n",
       "      <td>...</td>\n",
       "      <td>...</td>\n",
       "    </tr>\n",
       "    <tr>\n",
       "      <th>159659</th>\n",
       "      <td>\\n\\n== These are the files on this topic that ...</td>\n",
       "      <td>0</td>\n",
       "    </tr>\n",
       "    <tr>\n",
       "      <th>159661</th>\n",
       "      <td>\\n\\nYeah, I realized I created a duplicate ID....</td>\n",
       "      <td>0</td>\n",
       "    </tr>\n",
       "    <tr>\n",
       "      <th>159677</th>\n",
       "      <td>`\\nYes, from the word ``Guci`` or ``Puci`` mea...</td>\n",
       "      <td>0</td>\n",
       "    </tr>\n",
       "    <tr>\n",
       "      <th>159682</th>\n",
       "      <td>\\n\\nThe Institute for Historical Review is a p...</td>\n",
       "      <td>0</td>\n",
       "    </tr>\n",
       "    <tr>\n",
       "      <th>159685</th>\n",
       "      <td>Alternate option===\\nIs there perhaps enough n...</td>\n",
       "      <td>0</td>\n",
       "    </tr>\n",
       "  </tbody>\n",
       "</table>\n",
       "<p>127558 rows × 2 columns</p>\n",
       "</div>"
      ],
      "text/plain": [
       "                                                  comment  labels\n",
       "0       This:\\n:One can make an analogy in mathematica...       0\n",
       "1       `\\n\\n:Clarification for you  (and Zundark's ri...       0\n",
       "3       `This is such a fun entry.   Devotchka\\n\\nI on...       0\n",
       "6       `\\n\\n\\nI fixed the link; I also removed ``home...       0\n",
       "7       `If they are ``indisputable`` then why does th...       0\n",
       "...                                                   ...     ...\n",
       "159659  \\n\\n== These are the files on this topic that ...       0\n",
       "159661  \\n\\nYeah, I realized I created a duplicate ID....       0\n",
       "159677  `\\nYes, from the word ``Guci`` or ``Puci`` mea...       0\n",
       "159682  \\n\\nThe Institute for Historical Review is a p...       0\n",
       "159685  Alternate option===\\nIs there perhaps enough n...       0\n",
       "\n",
       "[127558 rows x 2 columns]"
      ]
     },
     "execution_count": 62,
     "metadata": {},
     "output_type": "execute_result"
    }
   ],
   "source": [
    "traintest"
   ]
  },
  {
   "cell_type": "code",
   "execution_count": 63,
   "metadata": {},
   "outputs": [],
   "source": [
    "traintest.to_csv('traintest.csv',index=False,header=None)\n",
    "test.to_csv('test.csv',index=False,header=None)\n",
    "dev.to_csv('val.csv',index=False,header=None)"
   ]
  },
  {
   "cell_type": "code",
   "execution_count": 27,
   "metadata": {},
   "outputs": [
    {
     "name": "stdout",
     "output_type": "stream",
     "text": [
      "gzip: traintest.csv.gz already exists; do you wish to overwrite (y or n)? ^C\n",
      "gzip: test.csv.gz already exists; do you wish to overwrite (y or n)? ^C\n",
      "gzip: val.csv.gz already exists; do you wish to overwrite (y or n)? ^C\n"
     ]
    }
   ],
   "source": [
    "!gzip traintest.csv\n",
    "!gzip test.csv\n",
    "!gzip val.csv"
   ]
  }
 ],
 "metadata": {
  "kernelspec": {
   "display_name": "Python 3",
   "language": "python",
   "name": "python3"
  },
  "language_info": {
   "codemirror_mode": {
    "name": "ipython",
    "version": 3
   },
   "file_extension": ".py",
   "mimetype": "text/x-python",
   "name": "python",
   "nbconvert_exporter": "python",
   "pygments_lexer": "ipython3",
   "version": "3.7.4"
  }
 },
 "nbformat": 4,
 "nbformat_minor": 2
}
